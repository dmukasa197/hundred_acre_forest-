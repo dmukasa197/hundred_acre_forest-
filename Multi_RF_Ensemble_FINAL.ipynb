{
 "cells": [
  {
   "cell_type": "markdown",
   "metadata": {},
   "source": [
    "# Multi-RF Ensemble (with optional feature selection)"
   ]
  },
  {
   "cell_type": "markdown",
   "metadata": {},
   "source": [
    "## 1. Load the packages and Data"
   ]
  },
  {
   "cell_type": "code",
   "execution_count": 2,
   "metadata": {},
   "outputs": [],
   "source": [
    "#load packages\n",
    "import numpy as np\n",
    "import matplotlib.pyplot as plt\n",
    "import pandas as pd\n",
    "\n",
    "from sklearn import tree\n",
    "from sklearn.ensemble import RandomForestRegressor\n",
    "from sklearn.ensemble import RandomForestClassifier\n",
    "from sklearn.metrics import roc_auc_score\n",
    "from sklearn.model_selection import train_test_split\n",
    "from sklearn.model_selection import KFold\n",
    "from copy import deepcopy"
   ]
  },
  {
   "cell_type": "code",
   "execution_count": 3,
   "metadata": {},
   "outputs": [
    {
     "name": "stdout",
     "output_type": "stream",
     "text": [
      "   last_price     mid  opened_position_qty   closed_position_qty  \\\n",
      "0      3842.4  3842.6                   1.0                  1.0   \n",
      "1      3842.8  3843.4                   6.0                 49.0   \n",
      "2      3844.0  3844.3                   7.0                 77.0   \n",
      "3      3843.8  3843.4                   3.0                 34.0   \n",
      "4      3843.2  3843.1                   3.0                 38.0   \n",
      "\n",
      "   transacted_qty  d_open_interest    bid1    bid2    bid3    bid4  ...  \\\n",
      "0           103.0                0  3842.4  3842.0  3841.8  3841.0  ...   \n",
      "1            55.0              -43  3843.0  3842.8  3842.4  3842.0  ...   \n",
      "2            84.0              -69  3843.8  3843.6  3843.2  3843.0  ...   \n",
      "3            37.0              -30  3843.0  3842.8  3842.4  3842.0  ...   \n",
      "4            41.0              -35  3842.8  3842.4  3842.0  3841.8  ...   \n",
      "\n",
      "   bid2vol  bid3vol  bid4vol  bid5vol  ask1vol  ask2vol  ask3vol  ask4vol  \\\n",
      "0        1        6       14        6        6        1        1       10   \n",
      "1        6       11        1        6        1        4        4        1   \n",
      "2        1        4       21       12        1       16       10        4   \n",
      "3       13       12        2        4        2        7        1        2   \n",
      "4       12        2        2        4        1        3        1       11   \n",
      "\n",
      "   ask5vol  y  \n",
      "0        2  1  \n",
      "1       13  0  \n",
      "2        9  0  \n",
      "3       11  1  \n",
      "4       15  1  \n",
      "\n",
      "[5 rows x 27 columns]\n",
      "   last_price     mid  opened_position_qty   closed_position_qty  \\\n",
      "0      5178.4  5178.3                   1.0                 11.0   \n",
      "1      5133.0  5132.9                   1.0                  0.0   \n",
      "2      5177.4  5178.0                   2.0                  0.0   \n",
      "3      5093.6  5093.9                   0.0                  2.0   \n",
      "4      5189.2  5189.2                   1.0                  1.0   \n",
      "\n",
      "   transacted_qty  d_open_interest    bid1    bid2    bid3    bid4  ...  \\\n",
      "0            12.0              -10  5178.2  5178.0  5177.8  5177.6  ...   \n",
      "1             1.0                1  5132.8  5132.6  5132.4  5132.2  ...   \n",
      "2             2.0                2  5177.2  5176.8  5176.6  5176.4  ...   \n",
      "3             2.0               -1  5093.2  5093.0  5092.8  5092.2  ...   \n",
      "4             0.0                0  5188.8  5188.6  5188.4  5188.2  ...   \n",
      "\n",
      "   bid1vol  bid2vol  bid3vol  bid4vol  bid5vol  ask1vol  ask2vol  ask3vol  \\\n",
      "0        3       16        3        1        1        1        4        1   \n",
      "1        1        2        2        1       10        4        8        1   \n",
      "2        8       18        1        1        6        7        4        1   \n",
      "3        8        5        4        3        1        1        1       11   \n",
      "4        1        5        1        3        3        3        2        1   \n",
      "\n",
      "   ask4vol  ask5vol  \n",
      "0        5        2  \n",
      "1        1        1  \n",
      "2        2        5  \n",
      "3        6        2  \n",
      "4        3        4  \n",
      "\n",
      "[5 rows x 26 columns]\n"
     ]
    }
   ],
   "source": [
    "#load the data\n",
    "train_data = pd.read_csv(\"train.csv\").drop(columns= 'id')#remove id since this is irrelevant\n",
    "test_data = pd.read_csv(\"test.csv\").drop(columns= 'id')#remove id since this is irrelevant\n",
    "\n",
    "#replace empty data entries with the median of that feature\n",
    "mean_train_data = train_data.fillna(train_data.median())\n",
    "mean_test_data = test_data.fillna(test_data.median())\n",
    "print(mean_train_data.head())\n",
    "print(mean_test_data.head())\n"
   ]
  },
  {
   "cell_type": "markdown",
   "metadata": {},
   "source": [
    "## Outliers"
   ]
  },
  {
   "cell_type": "code",
   "execution_count": 4,
   "metadata": {},
   "outputs": [
    {
     "data": {
      "text/plain": [
       "<matplotlib.axes._subplots.AxesSubplot at 0x1a237aaf50>"
      ]
     },
     "execution_count": 4,
     "metadata": {},
     "output_type": "execute_result"
    },
    {
     "data": {
      "image/png": "[encoded data removed]",
      "text/plain": [
       "<Figure size 432x288 with 1 Axes>"
      ]
     },
     "metadata": {
      "needs_background": "light"
     },
     "output_type": "display_data"
    }
   ],
   "source": [
    "#training data outlieres in opened_position_qty\n",
    "import seaborn as sns\n",
    "sns.boxplot(x=train_data['opened_position_qty '])"
   ]
  },
  {
   "cell_type": "code",
   "execution_count": 5,
   "metadata": {},
   "outputs": [
    {
     "data": {
      "text/plain": [
       "<matplotlib.axes._subplots.AxesSubplot at 0x1a18f1fc50>"
      ]
     },
     "execution_count": 5,
     "metadata": {},
     "output_type": "execute_result"
    },
    {
     "data": {
      "image/png": "[encoded data removed]",
      "text/plain": [
       "<Figure size 432x288 with 1 Axes>"
      ]
     },
     "metadata": {
      "needs_background": "light"
     },
     "output_type": "display_data"
    }
   ],
   "source": [
    "#training data outlieres in closed_position_qty\n",
    "sns.boxplot(x=train_data['closed_position_qty'])"
   ]
  },
  {
   "cell_type": "code",
   "execution_count": 6,
   "metadata": {},
   "outputs": [
    {
     "data": {
      "text/plain": [
       "<matplotlib.axes._subplots.AxesSubplot at 0x1a19001910>"
      ]
     },
     "execution_count": 6,
     "metadata": {},
     "output_type": "execute_result"
    },
    {
     "data": {
      "image/png": "[encoded data removed]",
      "text/plain": [
       "<Figure size 432x288 with 1 Axes>"
      ]
     },
     "metadata": {
      "needs_background": "light"
     },
     "output_type": "display_data"
    }
   ],
   "source": [
    "#testing data outlieres in opened_position_qty\n",
    "sns.boxplot(x=test_data['opened_position_qty '])"
   ]
  },
  {
   "cell_type": "code",
   "execution_count": 7,
   "metadata": {},
   "outputs": [
    {
     "data": {
      "text/plain": [
       "<matplotlib.axes._subplots.AxesSubplot at 0x1a19306190>"
      ]
     },
     "execution_count": 7,
     "metadata": {},
     "output_type": "execute_result"
    },
    {
     "data": {
      "image/png": "[encoded data removed]",
      "text/plain": [
       "<Figure size 432x288 with 1 Axes>"
      ]
     },
     "metadata": {
      "needs_background": "light"
     },
     "output_type": "display_data"
    }
   ],
   "source": [
    "#testing data outlieres in closed_position_qty\n",
    "sns.boxplot(x = train_data['closed_position_qty'])"
   ]
  },
  {
   "cell_type": "markdown",
   "metadata": {},
   "source": [
    "## 1a: Data Conditioning (Optional)"
   ]
  },
  {
   "cell_type": "markdown",
   "metadata": {},
   "source": [
    "### (a) Feature Selection"
   ]
  },
  {
   "cell_type": "code",
   "execution_count": 63,
   "metadata": {},
   "outputs": [
    {
     "name": "stdout",
     "output_type": "stream",
     "text": [
      "['last_price', 'mid', 'opened_position_qty ', 'closed_position_qty', 'transacted_qty', 'd_open_interest', 'bid1', 'bid2', 'bid3', 'bid4', 'bid5', 'ask1', 'ask2', 'ask3', 'ask4', 'ask5', 'bid1vol', 'bid2vol', 'bid3vol', 'bid4vol', 'bid5vol', 'ask1vol', 'ask2vol', 'ask3vol', 'ask4vol', 'ask5vol', 'y', 'bid_mean', 'ask_mean', 'bid_vol_mean', 'ask_vol_mean', 'bid_std', 'ask_std', 'bid_vol_std', 'ask_vol_std', 'bid_range', 'ask_range', 'bid_vol_range', 'ask_vol_range', 'mid_last_diff', 'open_close_diff', 'bid_ask_diff', 'bid_ask_vol_diff']\n",
      "   last_price     mid  opened_position_qty   closed_position_qty  \\\n",
      "0      3842.4  3842.6                   1.0                  1.0   \n",
      "1      3842.8  3843.4                   6.0                 49.0   \n",
      "2      3844.0  3844.3                   7.0                 77.0   \n",
      "3      3843.8  3843.4                   3.0                 34.0   \n",
      "4      3843.2  3843.1                   3.0                 38.0   \n",
      "\n",
      "   transacted_qty  d_open_interest    bid1    bid2    bid3    bid4  ...  \\\n",
      "0           103.0                0  3842.4  3842.0  3841.8  3841.0  ...   \n",
      "1            55.0              -43  3843.0  3842.8  3842.4  3842.0  ...   \n",
      "2            84.0              -69  3843.8  3843.6  3843.2  3843.0  ...   \n",
      "3            37.0              -30  3843.0  3842.8  3842.4  3842.0  ...   \n",
      "4            41.0              -35  3842.8  3842.4  3842.0  3841.8  ...   \n",
      "\n",
      "   ask_vol_std  bid_range  ask_range  bid_vol_range  ask_vol_range  \\\n",
      "0     3.937004        2.0        1.2             13              9   \n",
      "1     4.929503        1.2        1.0             10             12   \n",
      "2     5.787918        1.0        1.0             20             15   \n",
      "3     4.277850        1.6        1.0             11             10   \n",
      "4     6.418723        1.4        1.6             11             14   \n",
      "\n",
      "   mid_last_diff  open_close_diff  bid_ask_diff  bid_ask_vol_diff  y  \n",
      "0            0.2              0.0         -2.00               3.0  1  \n",
      "1            0.6            -43.0         -1.92               1.6  0  \n",
      "2            0.3            -70.0         -2.04               0.2  0  \n",
      "3           -0.4            -31.0         -2.00               3.6  1  \n",
      "4           -0.1            -35.0         -2.28               0.6  1  \n",
      "\n",
      "[5 rows x 43 columns]\n"
     ]
    }
   ],
   "source": [
    "# Manually consider new features\n",
    "# MEANS\n",
    "mean_train_data['bid_mean'] = mean_train_data[['bid1','bid2','bid3','bid4','bid5']].mean(axis=1)\n",
    "mean_train_data['ask_mean'] = mean_train_data[['ask1','ask2','ask3','ask4','ask5']].mean(axis=1)\n",
    "mean_train_data['bid_vol_mean'] = mean_train_data[['bid1vol','bid2vol','bid3vol','bid4vol','bid5vol']].mean(axis=1)\n",
    "mean_train_data['ask_vol_mean'] = mean_train_data[['ask1vol','ask2vol','ask3vol','ask4vol','ask5vol']].mean(axis=1)\n",
    "\n",
    "# STANDARD DEV\n",
    "mean_train_data['bid_std'] = mean_train_data[['bid1','bid2','bid3','bid4','bid5']].std(axis=1)\n",
    "mean_train_data['ask_std'] = mean_train_data[['ask1','ask2','ask3','ask4','ask5']].std(axis=1)\n",
    "mean_train_data['bid_vol_std'] = mean_train_data[['ask1vol','bid2vol','bid3vol','bid4vol','bid5vol']].std(axis=1)\n",
    "mean_train_data['ask_vol_std'] = mean_train_data[['ask1vol','ask2vol','ask3vol','ask4vol','ask5vol']].std(axis=1)\n",
    "\n",
    "# RANGE\n",
    "mean_train_data['bid_range'] = mean_train_data[['bid1','bid2','bid3','bid4','bid5']].max(axis=1) - mean_train_data[['bid1','bid2','bid3','bid4','bid5']].min(axis=1)\n",
    "mean_train_data['ask_range'] = mean_train_data[['ask1','ask2','ask3','ask4','ask5']].max(axis=1) - mean_train_data[['ask1','ask2','ask3','ask4','ask5']].min(axis=1)\n",
    "mean_train_data['bid_vol_range'] = mean_train_data[['ask1vol','bid2vol','bid3vol','bid4vol','bid5vol']].max(axis=1) - mean_train_data[['ask1vol','bid2vol','bid3vol','bid4vol','bid5vol']].min(axis=1)\n",
    "mean_train_data['ask_vol_range'] = mean_train_data[['ask1vol','ask2vol','ask3vol','ask4vol','ask5vol']].max(axis=1) - mean_train_data[['ask1vol','ask2vol','ask3vol','ask4vol','ask5vol']].min(axis=1)\n",
    "\n",
    "# DIFFERENCES\n",
    "mean_train_data['mid_last_diff'] = mean_train_data['mid'] - mean_train_data['last_price']\n",
    "mean_train_data['open_close_diff'] = mean_train_data['opened_position_qty '] - mean_train_data['closed_position_qty']\n",
    "mean_train_data['bid_ask_diff'] = bid_mean - ask_mean\n",
    "mean_train_data['bid_ask_vol_diff'] = bid_vol_mean - ask_vol_mean\n",
    "\n",
    "print(mean_train_data.columns.to_list())\n",
    "mean_train_data = mean_train_data[['last_price', 'mid', 'opened_position_qty ', 'closed_position_qty', 'transacted_qty', 'd_open_interest', 'bid1', 'bid2', 'bid3', 'bid4', 'bid5', 'ask1', 'ask2', 'ask3', 'ask4', 'ask5', 'bid1vol', 'bid2vol', 'bid3vol', 'bid4vol', 'bid5vol', 'ask1vol', 'ask2vol', 'ask3vol', 'ask4vol', 'ask5vol', 'bid_mean', 'ask_mean', 'bid_vol_mean', 'ask_vol_mean', 'bid_std', 'ask_std', 'bid_vol_std', 'ask_vol_std', 'bid_range', 'ask_range', 'bid_vol_range', 'ask_vol_range', 'mid_last_diff', 'open_close_diff', 'bid_ask_diff', 'bid_ask_vol_diff','y']]\n",
    "print(mean_train_data.head())"
   ]
  },
  {
   "cell_type": "markdown",
   "metadata": {},
   "source": [
    "### repeat on the testing set"
   ]
  },
  {
   "cell_type": "code",
   "execution_count": 86,
   "metadata": {},
   "outputs": [
    {
     "name": "stdout",
     "output_type": "stream",
     "text": [
      "['last_price', 'mid', 'opened_position_qty ', 'closed_position_qty', 'transacted_qty', 'd_open_interest', 'bid1', 'bid2', 'bid3', 'bid4', 'bid5', 'ask1', 'ask2', 'ask3', 'ask4', 'ask5', 'bid1vol', 'bid2vol', 'bid3vol', 'bid4vol', 'bid5vol', 'ask1vol', 'ask2vol', 'ask3vol', 'ask4vol', 'ask5vol', 'bid_mean', 'ask_mean', 'bid_vol_mean', 'ask_vol_mean', 'bid_std', 'ask_std', 'bid_vol_std', 'ask_vol_std', 'bid_range', 'ask_range', 'bid_vol_range', 'ask_vol_range', 'mid_last_diff', 'open_close_diff', 'bid_ask_diff', 'bid_ask_vol_diff']\n",
      "   last_price     mid  opened_position_qty   closed_position_qty  \\\n",
      "0      5178.4  5178.3                   1.0                 11.0   \n",
      "1      5133.0  5132.9                   1.0                  0.0   \n",
      "2      5177.4  5178.0                   2.0                  0.0   \n",
      "3      5093.6  5093.9                   0.0                  2.0   \n",
      "4      5189.2  5189.2                   1.0                  1.0   \n",
      "\n",
      "   transacted_qty  d_open_interest    bid1    bid2    bid3    bid4  ...  \\\n",
      "0            12.0              -10  5178.2  5178.0  5177.8  5177.6  ...   \n",
      "1             1.0                1  5132.8  5132.6  5132.4  5132.2  ...   \n",
      "2             2.0                2  5177.2  5176.8  5176.6  5176.4  ...   \n",
      "3             2.0               -1  5093.2  5093.0  5092.8  5092.2  ...   \n",
      "4             0.0                0  5188.8  5188.6  5188.4  5188.2  ...   \n",
      "\n",
      "   bid_vol_std  ask_vol_std  bid_range  ask_range  bid_vol_range  \\\n",
      "0     6.542171     1.816590        0.8        1.4             15   \n",
      "1     3.633180     3.082207        0.8        1.2              9   \n",
      "2     6.949820     2.387467        1.2        0.8             17   \n",
      "3     1.788854     4.324350        1.2        0.8              4   \n",
      "4     1.414214     1.140175        0.8        1.6              4   \n",
      "\n",
      "   ask_vol_range  mid_last_diff  open_close_diff  bid_ask_diff  \\\n",
      "0              4  -1.000000e-01            -10.0         -2.00   \n",
      "1              7  -1.000000e-01              1.0         -1.92   \n",
      "2              6   6.000000e-01              2.0         -2.04   \n",
      "3             10   3.000000e-01             -2.0         -2.00   \n",
      "4              3   1.818989e-12              0.0         -2.28   \n",
      "\n",
      "   bid_ask_vol_diff  \n",
      "0               3.0  \n",
      "1               1.6  \n",
      "2               0.2  \n",
      "3               3.6  \n",
      "4               0.6  \n",
      "\n",
      "[5 rows x 42 columns]\n"
     ]
    }
   ],
   "source": [
    "# Manually consider new features\n",
    "# MEANS\n",
    "mean_test_data['bid_mean'] = mean_test_data[['bid1','bid2','bid3','bid4','bid5']].mean(axis=1)\n",
    "mean_test_data['ask_mean'] = mean_test_data[['ask1','ask2','ask3','ask4','ask5']].mean(axis=1)\n",
    "mean_test_data['bid_vol_mean'] = mean_test_data[['bid1vol','bid2vol','bid3vol','bid4vol','bid5vol']].mean(axis=1)\n",
    "mean_test_data['ask_vol_mean'] = mean_test_data[['ask1vol','ask2vol','ask3vol','ask4vol','ask5vol']].mean(axis=1)\n",
    "\n",
    "# STANDARD DEV\n",
    "mean_test_data['bid_std'] = mean_test_data[['bid1','bid2','bid3','bid4','bid5']].std(axis=1)\n",
    "mean_test_data['ask_std'] = mean_test_data[['ask1','ask2','ask3','ask4','ask5']].std(axis=1)\n",
    "mean_test_data['bid_vol_std'] = mean_test_data[['ask1vol','bid2vol','bid3vol','bid4vol','bid5vol']].std(axis=1)\n",
    "mean_test_data['ask_vol_std'] = mean_test_data[['ask1vol','ask2vol','ask3vol','ask4vol','ask5vol']].std(axis=1)\n",
    "\n",
    "# RANGE\n",
    "mean_test_data['bid_range'] = mean_test_data[['bid1','bid2','bid3','bid4','bid5']].max(axis=1) - mean_test_data[['bid1','bid2','bid3','bid4','bid5']].min(axis=1)\n",
    "mean_test_data['ask_range'] = mean_test_data[['ask1','ask2','ask3','ask4','ask5']].max(axis=1) - mean_test_data[['ask1','ask2','ask3','ask4','ask5']].min(axis=1)\n",
    "mean_test_data['bid_vol_range'] = mean_test_data[['ask1vol','bid2vol','bid3vol','bid4vol','bid5vol']].max(axis=1) - mean_test_data[['ask1vol','bid2vol','bid3vol','bid4vol','bid5vol']].min(axis=1)\n",
    "mean_test_data['ask_vol_range'] = mean_test_data[['ask1vol','ask2vol','ask3vol','ask4vol','ask5vol']].max(axis=1) - mean_test_data[['ask1vol','ask2vol','ask3vol','ask4vol','ask5vol']].min(axis=1)\n",
    "\n",
    "# DIFFERENCES\n",
    "mean_test_data['mid_last_diff'] = mean_test_data['mid'] - mean_test_data['last_price']\n",
    "mean_test_data['open_close_diff'] = mean_test_data['opened_position_qty '] - mean_test_data['closed_position_qty']\n",
    "mean_test_data['bid_ask_diff'] = bid_mean - ask_mean\n",
    "mean_test_data['bid_ask_vol_diff'] = bid_vol_mean - ask_vol_mean\n",
    "\n",
    "print(mean_test_data.columns.to_list())\n",
    "mean_test_data = mean_test_data[['last_price', 'mid', 'opened_position_qty ', 'closed_position_qty', 'transacted_qty', 'd_open_interest', 'bid1', 'bid2', 'bid3', 'bid4', 'bid5', 'ask1', 'ask2', 'ask3', 'ask4', 'ask5', 'bid1vol', 'bid2vol', 'bid3vol', 'bid4vol', 'bid5vol', 'ask1vol', 'ask2vol', 'ask3vol', 'ask4vol', 'ask5vol', 'bid_mean', 'ask_mean', 'bid_vol_mean', 'ask_vol_mean', 'bid_std', 'ask_std', 'bid_vol_std', 'ask_vol_std', 'bid_range', 'ask_range', 'bid_vol_range', 'ask_vol_range', 'mid_last_diff', 'open_close_diff', 'bid_ask_diff', 'bid_ask_vol_diff']]\n",
    "print(mean_test_data.head())"
   ]
  },
  {
   "cell_type": "markdown",
   "metadata": {},
   "source": [
    "### Rescaling: not used"
   ]
  },
  {
   "cell_type": "code",
   "execution_count": 129,
   "metadata": {},
   "outputs": [
    {
     "name": "stdout",
     "output_type": "stream",
     "text": [
      "   last_price       mid  opened_position_qty   closed_position_qty  \\\n",
      "0    1.693579  1.693529             -0.926989            -0.921927   \n",
      "1    1.670600  1.670549             -0.926989            -0.927495   \n",
      "2    1.693073  1.693377             -0.926483            -0.927495   \n",
      "3    1.650657  1.650809             -0.927495            -0.926483   \n",
      "4    1.699046  1.699046             -0.926989            -0.926989   \n",
      "\n",
      "   transacted_qty  d_open_interest      bid1      bid2      bid3      bid4  \\\n",
      "0       -0.921421        -0.932557  1.693478  1.693377  1.693276  1.693174   \n",
      "1       -0.926989        -0.926989  1.670499  1.670397  1.670296  1.670195   \n",
      "2       -0.926483        -0.926483  1.692972  1.692769  1.692668  1.692567   \n",
      "3       -0.926483        -0.928001  1.650455  1.650354  1.650252  1.649949   \n",
      "4       -0.927495        -0.927495  1.698843  1.698742  1.698641  1.698540   \n",
      "\n",
      "   ...   bid1vol   bid2vol   bid3vol   bid4vol   bid5vol   ask1vol   ask2vol  \\\n",
      "0  ... -0.925977 -0.919396 -0.925977 -0.926989 -0.926989 -0.926989 -0.925470   \n",
      "1  ... -0.926989 -0.926483 -0.926483 -0.926989 -0.922433 -0.925470 -0.923446   \n",
      "2  ... -0.923446 -0.918384 -0.926989 -0.926989 -0.924458 -0.923952 -0.925470   \n",
      "3  ... -0.923446 -0.924964 -0.925470 -0.925977 -0.926989 -0.926989 -0.926989   \n",
      "4  ... -0.926989 -0.924964 -0.926989 -0.925977 -0.925977 -0.925977 -0.926483   \n",
      "\n",
      "    ask3vol   ask4vol   ask5vol  \n",
      "0 -0.926989 -0.924964 -0.926483  \n",
      "1 -0.926989 -0.926989 -0.926989  \n",
      "2 -0.926989 -0.926483 -0.924964  \n",
      "3 -0.921927 -0.924458 -0.926483  \n",
      "4 -0.926989 -0.925977 -0.925470  \n",
      "\n",
      "[5 rows x 26 columns]\n"
     ]
    }
   ],
   "source": [
    "# OPTIONAL: rescale the data\n",
    "#test_mean = mean_test_data.mean().iloc[0:26]\n",
    "\n",
    "#train_mean = np.mean(train_data[:,0:26])\n",
    "#train_std = np.std(train_data[:,0:26])\n",
    "\n",
    "#train_data[:,0:26] = (train_data[:,0:26] - train_mean)/train_std\n",
    "#val_data[:,0:26] = (val_data[:,0:26] - train_mean)/train_std\n",
    "#mean_test_data = (mean_test_data - train_mean)/train_std\n",
    "\n",
    "#print(mean_test_data.head())"
   ]
  },
  {
   "cell_type": "markdown",
   "metadata": {},
   "source": [
    "## Random Search hyperparameter optimization"
   ]
  },
  {
   "cell_type": "code",
   "execution_count": null,
   "metadata": {},
   "outputs": [],
   "source": [
    "X_initial = mean_train_data.drop(['y'],axis=1).to_numpy()\n",
    "y_initial = mean_train_data['y'].to_numpy()\n",
    "\n",
    "from sklearn.model_selection import RandomizedSearchCV #For Random search optimization\n",
    "random_search = {'criterion': ['entropy', 'gini'],#For the random search i'll try both entro and Gini\n",
    "               'max_depth': [10,50,100,200] + [None],\n",
    "               'max_features': ['auto', 'sqrt','log2', None],\n",
    "               'min_samples_leaf': [10,40,80,100,200],\n",
    "               'min_samples_split': list(np.linspace(0.1,1.0,10, endpoint = True)),\n",
    "               'n_estimators': [1,10,100,1000]} #change this back if threshold works\n",
    "\n",
    "clf = RandomForestClassifier()\n",
    "model = RandomizedSearchCV(estimator = clf, param_distributions = random_search, n_iter = 50, \n",
    "                               cv = 4, verbose= 2, random_state= 101, n_jobs = -1)\n",
    "model.fit(X_initial,y_initial)\n",
    "print(model.best_params_)"
   ]
  },
  {
   "cell_type": "markdown",
   "metadata": {},
   "source": [
    "### Feature Selection with SKLearn"
   ]
  },
  {
   "cell_type": "code",
   "execution_count": 54,
   "metadata": {},
   "outputs": [
    {
     "ename": "AttributeError",
     "evalue": "'SelectFromModel' object has no attribute 'print_support'",
     "output_type": "error",
     "traceback": [
      "\u001b[0;31m---------------------------------------------------------------------------\u001b[0m",
      "\u001b[0;31mAttributeError\u001b[0m                            Traceback (most recent call last)",
      "\u001b[0;32m<ipython-input-54-518ad4c49b97>\u001b[0m in \u001b[0;36m<module>\u001b[0;34m\u001b[0m\n\u001b[1;32m      5\u001b[0m \u001b[0mselector\u001b[0m \u001b[0;34m=\u001b[0m \u001b[0mSelectFromModel\u001b[0m\u001b[0;34m(\u001b[0m\u001b[0mestimator\u001b[0m\u001b[0;34m=\u001b[0m\u001b[0mRandomForestClassifier\u001b[0m\u001b[0;34m(\u001b[0m\u001b[0mn_estimators\u001b[0m \u001b[0;34m=\u001b[0m \u001b[0;36m1000\u001b[0m\u001b[0;34m,\u001b[0m \u001b[0mmin_samples_leaf\u001b[0m \u001b[0;34m=\u001b[0m \u001b[0;36m87\u001b[0m\u001b[0;34m)\u001b[0m\u001b[0;34m)\u001b[0m\u001b[0;34m\u001b[0m\u001b[0;34m\u001b[0m\u001b[0m\n\u001b[1;32m      6\u001b[0m \u001b[0mselector\u001b[0m\u001b[0;34m.\u001b[0m\u001b[0mfit\u001b[0m\u001b[0;34m(\u001b[0m\u001b[0mX_initial\u001b[0m\u001b[0;34m,\u001b[0m\u001b[0my_initial\u001b[0m\u001b[0;34m)\u001b[0m\u001b[0;34m\u001b[0m\u001b[0;34m\u001b[0m\u001b[0m\n\u001b[0;32m----> 7\u001b[0;31m \u001b[0mselector\u001b[0m\u001b[0;34m.\u001b[0m\u001b[0mprint_support\u001b[0m\u001b[0;34m(\u001b[0m\u001b[0;34m)\u001b[0m\u001b[0;34m\u001b[0m\u001b[0;34m\u001b[0m\u001b[0m\n\u001b[0m",
      "\u001b[0;31mAttributeError\u001b[0m: 'SelectFromModel' object has no attribute 'print_support'"
     ]
    }
   ],
   "source": [
    "X_initial = mean_train_data.drop(['y'],axis=1).to_numpy()\n",
    "y_initial = mean_train_data['y'].to_numpy()\n",
    "\n",
    "from sklearn.feature_selection import SelectFromModel\n",
    "selector = SelectFromModel(estimator=RandomForestClassifier(n_estimators = 1000, min_samples_leaf = 87))\n",
    "selector.fit(X_initial,y_initial)"
   ]
  },
  {
   "cell_type": "code",
   "execution_count": 90,
   "metadata": {},
   "outputs": [
    {
     "name": "stdout",
     "output_type": "stream",
     "text": [
      "[4, 16, 21, 29, 38, 40, 41]\n"
     ]
    }
   ],
   "source": [
    "sel_i = selector.get_support()\n",
    "feature_i = []\n",
    "for i, include in enumerate(sel_i):\n",
    "    if include == True:\n",
    "        feature_i.append(i)\n",
    "print(feature_i)"
   ]
  },
  {
   "cell_type": "markdown",
   "metadata": {},
   "source": [
    "It looks like the most important columns are numbers 4, 16, 21, 29, 38, 40, 41. These correspond to the following features:"
   ]
  },
  {
   "cell_type": "code",
   "execution_count": 128,
   "metadata": {},
   "outputs": [
    {
     "name": "stdout",
     "output_type": "stream",
     "text": [
      "['transacted_qty', 'bid1vol', 'ask1vol', 'ask_vol_mean', 'mid_last_diff', 'bid_ask_diff', 'bid_ask_vol_diff']\n"
     ]
    }
   ],
   "source": [
    "features = feature_i.copy()\n",
    "ind = 0\n",
    "for i, k in enumerate(feature_i):\n",
    "    features[i] = mean_train_data.columns.to_list()[k]\n",
    "print(features)\n",
    "n_features = len(features)"
   ]
  },
  {
   "cell_type": "markdown",
   "metadata": {},
   "source": [
    "## Create the new training feature vectors"
   ]
  },
  {
   "cell_type": "code",
   "execution_count": 129,
   "metadata": {},
   "outputs": [
    {
     "name": "stdout",
     "output_type": "stream",
     "text": [
      "   transacted_qty  bid1vol  ask1vol  ask_vol_mean  mid_last_diff  \\\n",
      "0           103.0        8        6           4.0            0.2   \n",
      "1            55.0        7        1           4.6            0.6   \n",
      "2            84.0        3        1           8.0            0.3   \n",
      "3            37.0       10        2           4.6           -0.4   \n",
      "4            41.0       14        1           6.2           -0.1   \n",
      "\n",
      "   bid_ask_diff  bid_ask_vol_diff  y  \n",
      "0         -2.00               3.0  1  \n",
      "1         -1.92               1.6  0  \n",
      "2         -2.04               0.2  0  \n",
      "3         -2.00               3.6  1  \n",
      "4         -2.28               0.6  1  \n",
      "   transacted_qty  bid1vol  ask1vol  ask_vol_mean  mid_last_diff  \\\n",
      "0            12.0        3        1           2.6  -1.000000e-01   \n",
      "1             1.0        1        4           3.0  -1.000000e-01   \n",
      "2             2.0        8        7           3.8   6.000000e-01   \n",
      "3             2.0        8        1           4.2   3.000000e-01   \n",
      "4             0.0        1        3           2.6   1.818989e-12   \n",
      "\n",
      "   bid_ask_diff  bid_ask_vol_diff  \n",
      "0         -2.00               3.0  \n",
      "1         -1.92               1.6  \n",
      "2         -2.04               0.2  \n",
      "3         -2.00               3.6  \n",
      "4         -2.28               0.6  \n"
     ]
    }
   ],
   "source": [
    "mean_test_data_sel = mean_test_data[features]\n",
    "features_train = features.append('y')\n",
    "mean_train_data_sel = mean_train_data[features]\n",
    "print(mean_train_data_sel.head())\n",
    "print(mean_test_data_sel.head())"
   ]
  },
  {
   "cell_type": "markdown",
   "metadata": {},
   "source": [
    "## 2. Split the training data into however many sets"
   ]
  },
  {
   "cell_type": "code",
   "execution_count": 130,
   "metadata": {},
   "outputs": [
    {
     "name": "stdout",
     "output_type": "stream",
     "text": [
      "7\n"
     ]
    }
   ],
   "source": [
    "# test-train split\n",
    "train_data, val_data = train_test_split(mean_train_data_sel.to_numpy(), train_size=0.8, shuffle=False)\n",
    "submission_test = mean_test_data_sel.to_numpy()"
   ]
  },
  {
   "cell_type": "code",
   "execution_count": 114,
   "metadata": {},
   "outputs": [],
   "source": [
    "def classification_score(real_y,y_score):\n",
    "\t\"\"\"\n",
    "\tThis function returns the classification error between two equally-sized vectors of\n",
    "\tlabels; this is the fraction of samples for which the labels differ.\n",
    "    \n",
    "\tInputs:\n",
    "    \ty: (N, ) shaped array of predicted labels\n",
    "    \treal_y: (N, ) shaped array of true labels\n",
    "\tOutput:\n",
    "    \tScalar classification error\n",
    "\t\"\"\"\n",
    "\treturn roc_auc_score(real_y,y_score)"
   ]
  },
  {
   "cell_type": "markdown",
   "metadata": {},
   "source": [
    "## 3. Define & Train Model"
   ]
  },
  {
   "cell_type": "code",
   "execution_count": 135,
   "metadata": {},
   "outputs": [],
   "source": [
    "Models = []\n",
    "for k in range(n_splits): # for each training data subset\n",
    "    # pick out the features and labels for this subset\n",
    "    X_train = train_splits[k][:,0:n_features]\n",
    "    #print(X_train[0:10,:])\n",
    "    y_train = train_splits[k][:,n_features]\n",
    "    #print(y_train[0:10])\n",
    "    \n",
    "    # create a random forest with the desired parameters\n",
    "    n_estimators = 50\n",
    "    RF = RandomForestClassifier(n_estimators = n_estimators, criterion = 'gini',min_samples_leaf=87)\n",
    "    RF.fit(X_train, y_train)\n",
    "    output = RF.predict_proba(X_train)[:,1]\n",
    "    \n",
    "    Models.append(deepcopy(RF))\n",
    "    if (k+1)%100 ==0:\n",
    "        print('Model %2f out of %2f complete'% (k+1,n_splits), '  Training ROC ',classification_score(y_train,output))\n"
   ]
  },
  {
   "cell_type": "code",
   "execution_count": 145,
   "metadata": {},
   "outputs": [
    {
     "name": "stdout",
     "output_type": "stream",
     "text": [
      "0.6946119664402051\n"
     ]
    }
   ],
   "source": [
    "print(classification_score(y_train,output))"
   ]
  },
  {
   "cell_type": "markdown",
   "metadata": {},
   "source": [
    "## 4. Validate the Model"
   ]
  },
  {
   "cell_type": "code",
   "execution_count": 137,
   "metadata": {},
   "outputs": [
    {
     "name": "stdout",
     "output_type": "stream",
     "text": [
      "Model 10 has validation score 0.6357\n",
      "Model 20 has validation score 0.6360\n",
      "Model 30 has validation score 0.6379\n",
      "Model 40 has validation score 0.6351\n",
      "Model 50 has validation score 0.6401\n",
      "0.644178647455844\n"
     ]
    }
   ],
   "source": [
    "# specify the same validation set for all models\n",
    "X_val = val_data[:,0:n_features]\n",
    "y_val = val_data[:,n_features]\n",
    "\n",
    "Pred_probas = []\n",
    "Preds = []\n",
    "mean_pred = np.zeros(len(y_val))\n",
    "\n",
    "for k, model in enumerate(Models):\n",
    "    pred = model.predict_proba(X_val)[:,1]\n",
    "    Preds.append(deepcopy(pred))\n",
    "    mean_pred += pred\n",
    "    \n",
    "    scorek = classification_score(y_val,pred)\n",
    "    if (k+1)%10 ==0:\n",
    "        print('Model %.0f has validation score %.4f' % (k+1,scorek))\n",
    "    \n",
    "mean_pred /= n_splits\n",
    "print(classification_score(y_val,mean_pred))"
   ]
  },
  {
   "cell_type": "code",
   "execution_count": 138,
   "metadata": {},
   "outputs": [
    {
     "data": {
      "text/plain": [
       "0.644178647455844"
      ]
     },
     "execution_count": 138,
     "metadata": {},
     "output_type": "execute_result"
    }
   ],
   "source": [
    "classification_score(y_val,mean_pred)"
   ]
  },
  {
   "cell_type": "code",
   "execution_count": 139,
   "metadata": {},
   "outputs": [
    {
     "data": {
      "text/plain": [
       "0.09690947022598619"
      ]
     },
     "execution_count": 139,
     "metadata": {},
     "output_type": "execute_result"
    }
   ],
   "source": [
    "np.std(mean_pred)"
   ]
  },
  {
   "cell_type": "markdown",
   "metadata": {},
   "source": [
    "## 5. Predict the submission set"
   ]
  },
  {
   "cell_type": "code",
   "execution_count": 141,
   "metadata": {},
   "outputs": [
    {
     "name": "stdout",
     "output_type": "stream",
     "text": [
      "Model 10 of 50 evaluated\n",
      "Model 20 of 50 evaluated\n",
      "Model 30 of 50 evaluated\n",
      "Model 40 of 50 evaluated\n",
      "Model 50 of 50 evaluated\n"
     ]
    }
   ],
   "source": [
    "X_submit = submission_test\n",
    "Preds = []\n",
    "mean_pred_submit = np.zeros(len(X_submit))\n",
    "\n",
    "for k, model in enumerate(Models):\n",
    "    pred = model.predict_proba(X_submit)[:,1]\n",
    "    Preds.append(deepcopy(pred))\n",
    "    mean_pred_submit += pred\n",
    "    if (k+1)%10 ==0:\n",
    "        print('Model %.0f of %.0f evaluated' % (k+1,n_splits))\n",
    "    \n",
    "mean_pred_submit /= n_splits"
   ]
  },
  {
   "cell_type": "code",
   "execution_count": 142,
   "metadata": {},
   "outputs": [],
   "source": [
    "test_data = pd.read_csv(\"test.csv\",index_col=0)\n",
    "test_data['Predicted'] = mean_pred_submit\n",
    "test_data[['Predicted']].to_csv('submission_100RFs.csv')"
   ]
  },
  {
   "cell_type": "code",
   "execution_count": 143,
   "metadata": {},
   "outputs": [
    {
     "data": {
      "text/plain": [
       "0.09011865649821607"
      ]
     },
     "execution_count": 143,
     "metadata": {},
     "output_type": "execute_result"
    }
   ],
   "source": [
    "np.std(mean_pred_submit)"
   ]
  },
  {
   "cell_type": "markdown",
   "metadata": {},
   "source": [
    "## 6. (Optional) Save the Models"
   ]
  },
  {
   "cell_type": "code",
   "execution_count": 144,
   "metadata": {},
   "outputs": [
    {
     "ename": "NameError",
     "evalue": "name 'train_mean' is not defined",
     "output_type": "error",
     "traceback": [
      "\u001b[0;31m---------------------------------------------------------------------------\u001b[0m",
      "\u001b[0;31mNameError\u001b[0m                                 Traceback (most recent call last)",
      "\u001b[0;32m<ipython-input-144-774c2b221730>\u001b[0m in \u001b[0;36m<module>\u001b[0;34m\u001b[0m\n\u001b[1;32m      2\u001b[0m \u001b[0mpkl_filename\u001b[0m \u001b[0;34m=\u001b[0m \u001b[0;34m\"RF_feature_reduced_50splits.pkl\"\u001b[0m\u001b[0;34m\u001b[0m\u001b[0;34m\u001b[0m\u001b[0m\n\u001b[1;32m      3\u001b[0m \u001b[0;32mwith\u001b[0m \u001b[0mopen\u001b[0m\u001b[0;34m(\u001b[0m\u001b[0mpkl_filename\u001b[0m\u001b[0;34m,\u001b[0m \u001b[0;34m'wb'\u001b[0m\u001b[0;34m)\u001b[0m \u001b[0;32mas\u001b[0m \u001b[0mfile\u001b[0m\u001b[0;34m:\u001b[0m\u001b[0;34m\u001b[0m\u001b[0;34m\u001b[0m\u001b[0m\n\u001b[0;32m----> 4\u001b[0;31m     \u001b[0mpickle\u001b[0m\u001b[0;34m.\u001b[0m\u001b[0mdump\u001b[0m\u001b[0;34m(\u001b[0m\u001b[0;34m(\u001b[0m\u001b[0mModels\u001b[0m\u001b[0;34m,\u001b[0m\u001b[0mtrain_mean\u001b[0m\u001b[0;34m,\u001b[0m\u001b[0mtrain_std\u001b[0m\u001b[0;34m)\u001b[0m\u001b[0;34m,\u001b[0m \u001b[0mfile\u001b[0m\u001b[0;34m)\u001b[0m\u001b[0;34m\u001b[0m\u001b[0;34m\u001b[0m\u001b[0m\n\u001b[0m",
      "\u001b[0;31mNameError\u001b[0m: name 'train_mean' is not defined"
     ]
    }
   ],
   "source": [
    "import pickle\n",
    "pkl_filename = \"RF_feature_reduced_50splits.pkl\"\n",
    "with open(pkl_filename, 'wb') as file:\n",
    "    pickle.dump((Models), file)"
   ]
  }
 ],
 "metadata": {
  "kernelspec": {
   "display_name": "Python 3",
   "language": "python",
   "name": "python3"
  },
  "language_info": {
   "codemirror_mode": {
    "name": "ipython",
    "version": 3
   },
   "file_extension": ".py",
   "mimetype": "text/x-python",
   "name": "python",
   "nbconvert_exporter": "python",
   "pygments_lexer": "ipython3",
   "version": "3.7.4"
  }
 },
 "nbformat": 4,
 "nbformat_minor": 2
}
